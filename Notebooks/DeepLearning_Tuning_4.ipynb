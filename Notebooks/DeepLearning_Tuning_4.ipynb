{
 "cells": [
  {
   "cell_type": "code",
   "execution_count": 1,
   "id": "bf49549b-6bfe-4c06-958c-9d3892573348",
   "metadata": {},
   "outputs": [],
   "source": [
    "import numpy as np\n",
    "import pandas as pd\n",
    "import matplotlib.pyplot as plt\n",
    "import seaborn as sns "
   ]
  },
  {
   "cell_type": "code",
   "execution_count": 42,
   "id": "206eac08-3b4f-4a81-91ae-1de7b6789efc",
   "metadata": {},
   "outputs": [],
   "source": [
    "from sklearn.metrics import (confusion_matrix, classification_report, precision_recall_curve, auc, roc_curve, precision_score, recall_score, f1_score, \n",
    "                            roc_auc_score, average_precision_score)"
   ]
  },
  {
   "cell_type": "code",
   "execution_count": 43,
   "id": "7aaee7c7-1d93-452d-8a84-40f111311f31",
   "metadata": {},
   "outputs": [
    {
     "data": {
      "text/html": [
       "<div>\n",
       "<style scoped>\n",
       "    .dataframe tbody tr th:only-of-type {\n",
       "        vertical-align: middle;\n",
       "    }\n",
       "\n",
       "    .dataframe tbody tr th {\n",
       "        vertical-align: top;\n",
       "    }\n",
       "\n",
       "    .dataframe thead th {\n",
       "        text-align: right;\n",
       "    }\n",
       "</style>\n",
       "<table border=\"1\" class=\"dataframe\">\n",
       "  <thead>\n",
       "    <tr style=\"text-align: right;\">\n",
       "      <th></th>\n",
       "      <th>meta_feature_0</th>\n",
       "      <th>meta_feature_1</th>\n",
       "      <th>target</th>\n",
       "    </tr>\n",
       "  </thead>\n",
       "  <tbody>\n",
       "    <tr>\n",
       "      <th>0</th>\n",
       "      <td>0.000006</td>\n",
       "      <td>5.319346e-07</td>\n",
       "      <td>0</td>\n",
       "    </tr>\n",
       "    <tr>\n",
       "      <th>1</th>\n",
       "      <td>0.000002</td>\n",
       "      <td>1.918739e-07</td>\n",
       "      <td>0</td>\n",
       "    </tr>\n",
       "    <tr>\n",
       "      <th>2</th>\n",
       "      <td>0.000026</td>\n",
       "      <td>2.674685e-06</td>\n",
       "      <td>0</td>\n",
       "    </tr>\n",
       "    <tr>\n",
       "      <th>3</th>\n",
       "      <td>0.000003</td>\n",
       "      <td>2.140096e-07</td>\n",
       "      <td>0</td>\n",
       "    </tr>\n",
       "    <tr>\n",
       "      <th>4</th>\n",
       "      <td>0.000016</td>\n",
       "      <td>1.112517e-06</td>\n",
       "      <td>0</td>\n",
       "    </tr>\n",
       "  </tbody>\n",
       "</table>\n",
       "</div>"
      ],
      "text/plain": [
       "   meta_feature_0  meta_feature_1  target\n",
       "0        0.000006    5.319346e-07       0\n",
       "1        0.000002    1.918739e-07       0\n",
       "2        0.000026    2.674685e-06       0\n",
       "3        0.000003    2.140096e-07       0\n",
       "4        0.000016    1.112517e-06       0"
      ]
     },
     "execution_count": 43,
     "metadata": {},
     "output_type": "execute_result"
    }
   ],
   "source": [
    "df=pd.read_csv(\"meta_train.csv\")\n",
    "df.head()"
   ]
  },
  {
   "cell_type": "code",
   "execution_count": 44,
   "id": "ff60c93b-4f41-4c52-ad39-b918385aa0ce",
   "metadata": {},
   "outputs": [
    {
     "data": {
      "text/plain": [
       "<bound method DataFrame.info of         meta_feature_0  meta_feature_1  target\n",
       "0             0.000006    5.319346e-07       0\n",
       "1             0.000002    1.918739e-07       0\n",
       "2             0.000026    2.674685e-06       0\n",
       "3             0.000003    2.140096e-07       0\n",
       "4             0.000016    1.112517e-06       0\n",
       "...                ...             ...     ...\n",
       "227840        0.000003    1.513517e-07       0\n",
       "227841        0.000005    1.111946e-06       0\n",
       "227842        0.000007    4.212448e-07       0\n",
       "227843        0.000015    5.460467e-07       0\n",
       "227844        0.000007    2.636628e-07       0\n",
       "\n",
       "[227845 rows x 3 columns]>"
      ]
     },
     "execution_count": 44,
     "metadata": {},
     "output_type": "execute_result"
    }
   ],
   "source": [
    "df.info"
   ]
  },
  {
   "cell_type": "code",
   "execution_count": 45,
   "id": "ad051f3a-3d5f-48e6-9de7-2f6a106263a6",
   "metadata": {},
   "outputs": [
    {
     "data": {
      "text/html": [
       "<div>\n",
       "<style scoped>\n",
       "    .dataframe tbody tr th:only-of-type {\n",
       "        vertical-align: middle;\n",
       "    }\n",
       "\n",
       "    .dataframe tbody tr th {\n",
       "        vertical-align: top;\n",
       "    }\n",
       "\n",
       "    .dataframe thead th {\n",
       "        text-align: right;\n",
       "    }\n",
       "</style>\n",
       "<table border=\"1\" class=\"dataframe\">\n",
       "  <thead>\n",
       "    <tr style=\"text-align: right;\">\n",
       "      <th></th>\n",
       "      <th>meta_feature_0</th>\n",
       "      <th>meta_feature_1</th>\n",
       "      <th>target</th>\n",
       "    </tr>\n",
       "  </thead>\n",
       "  <tbody>\n",
       "    <tr>\n",
       "      <th>count</th>\n",
       "      <td>2.278450e+05</td>\n",
       "      <td>2.278450e+05</td>\n",
       "      <td>227845.000000</td>\n",
       "    </tr>\n",
       "    <tr>\n",
       "      <th>mean</th>\n",
       "      <td>1.661948e-03</td>\n",
       "      <td>1.573529e-03</td>\n",
       "      <td>0.001729</td>\n",
       "    </tr>\n",
       "    <tr>\n",
       "      <th>std</th>\n",
       "      <td>3.891619e-02</td>\n",
       "      <td>3.874051e-02</td>\n",
       "      <td>0.041548</td>\n",
       "    </tr>\n",
       "    <tr>\n",
       "      <th>min</th>\n",
       "      <td>7.282034e-07</td>\n",
       "      <td>1.168590e-08</td>\n",
       "      <td>0.000000</td>\n",
       "    </tr>\n",
       "    <tr>\n",
       "      <th>25%</th>\n",
       "      <td>4.758037e-06</td>\n",
       "      <td>3.207808e-07</td>\n",
       "      <td>0.000000</td>\n",
       "    </tr>\n",
       "    <tr>\n",
       "      <th>50%</th>\n",
       "      <td>8.434969e-06</td>\n",
       "      <td>7.992193e-07</td>\n",
       "      <td>0.000000</td>\n",
       "    </tr>\n",
       "    <tr>\n",
       "      <th>75%</th>\n",
       "      <td>1.842798e-05</td>\n",
       "      <td>2.378185e-06</td>\n",
       "      <td>0.000000</td>\n",
       "    </tr>\n",
       "    <tr>\n",
       "      <th>max</th>\n",
       "      <td>9.999973e-01</td>\n",
       "      <td>9.999998e-01</td>\n",
       "      <td>1.000000</td>\n",
       "    </tr>\n",
       "  </tbody>\n",
       "</table>\n",
       "</div>"
      ],
      "text/plain": [
       "       meta_feature_0  meta_feature_1         target\n",
       "count    2.278450e+05    2.278450e+05  227845.000000\n",
       "mean     1.661948e-03    1.573529e-03       0.001729\n",
       "std      3.891619e-02    3.874051e-02       0.041548\n",
       "min      7.282034e-07    1.168590e-08       0.000000\n",
       "25%      4.758037e-06    3.207808e-07       0.000000\n",
       "50%      8.434969e-06    7.992193e-07       0.000000\n",
       "75%      1.842798e-05    2.378185e-06       0.000000\n",
       "max      9.999973e-01    9.999998e-01       1.000000"
      ]
     },
     "execution_count": 45,
     "metadata": {},
     "output_type": "execute_result"
    }
   ],
   "source": [
    "df.describe()"
   ]
  },
  {
   "cell_type": "code",
   "execution_count": 46,
   "id": "6ca7a7de-a3aa-406a-b1b3-63b173c0f3a4",
   "metadata": {},
   "outputs": [
    {
     "data": {
      "text/plain": [
       "target\n",
       "0    99.827075\n",
       "1     0.172925\n",
       "Name: proportion, dtype: float64"
      ]
     },
     "execution_count": 46,
     "metadata": {},
     "output_type": "execute_result"
    }
   ],
   "source": [
    "df['target'].value_counts(normalize=True)*100"
   ]
  },
  {
   "cell_type": "code",
   "execution_count": 92,
   "id": "2723a0d2-35aa-4269-b047-51b8270e5a70",
   "metadata": {},
   "outputs": [],
   "source": [
    "X=df.drop('target',axis=1)\n",
    "y=df['target']\n",
    "from imblearn.over_sampling import SMOTE\n",
    "from sklearn.model_selection import train_test_split\n",
    "X_train, X_test, y_train, y_test =train_test_split(X, y, test_size=0.2, stratify=y, random_state=42)\n",
    "\n",
    "sm = SMOTE(random_state=42)\n",
    "X_train_res, y_train_res = sm.fit_resample(X_train, y_train)"
   ]
  },
  {
   "cell_type": "code",
   "execution_count": 96,
   "id": "79292110-42fb-440d-88a9-033d5d6adb81",
   "metadata": {},
   "outputs": [
    {
     "data": {
      "text/plain": [
       "target\n",
       "0    181961\n",
       "1    181961\n",
       "Name: count, dtype: int64"
      ]
     },
     "execution_count": 96,
     "metadata": {},
     "output_type": "execute_result"
    }
   ],
   "source": [
    "y_train_res.value_counts()"
   ]
  },
  {
   "cell_type": "code",
   "execution_count": 48,
   "id": "f7b4d97d-80e7-4762-bda5-ea7b97241f9f",
   "metadata": {},
   "outputs": [
    {
     "data": {
      "text/plain": [
       "meta_feature_0    0.001686\n",
       "meta_feature_1    0.001587\n",
       "dtype: float64"
      ]
     },
     "execution_count": 48,
     "metadata": {},
     "output_type": "execute_result"
    }
   ],
   "source": [
    "X_train.mean() #before"
   ]
  },
  {
   "cell_type": "code",
   "execution_count": 97,
   "id": "388d6a46-b37a-47ba-9d74-e9d9f92e9d6b",
   "metadata": {},
   "outputs": [],
   "source": [
    "#Scalling\n",
    "from sklearn.preprocessing import StandardScaler\n",
    "scaler=StandardScaler()\n",
    "X_train=scaler.fit_transform(X_train_res)\n",
    "X_test=scaler.transform(X_test)"
   ]
  },
  {
   "cell_type": "code",
   "execution_count": 102,
   "id": "c748b6fb-eb95-45f2-a286-69261dbc384d",
   "metadata": {},
   "outputs": [
    {
     "data": {
      "text/plain": [
       "(363922, 2)"
      ]
     },
     "execution_count": 102,
     "metadata": {},
     "output_type": "execute_result"
    }
   ],
   "source": [
    "X_train.shape"
   ]
  },
  {
   "cell_type": "code",
   "execution_count": 105,
   "id": "3b164aeb-b349-4c3a-8f78-e5a95fe31699",
   "metadata": {},
   "outputs": [],
   "source": [
    "X_train_res.shape\n",
    "y_train=y_train_res"
   ]
  },
  {
   "cell_type": "code",
   "execution_count": 107,
   "id": "deb6b38a-7066-480c-8c54-6cf39a10c457",
   "metadata": {},
   "outputs": [
    {
     "data": {
      "text/plain": [
       "target\n",
       "0    181961\n",
       "1    181961\n",
       "Name: count, dtype: int64"
      ]
     },
     "execution_count": 107,
     "metadata": {},
     "output_type": "execute_result"
    }
   ],
   "source": [
    "y_train.value_counts()"
   ]
  },
  {
   "cell_type": "code",
   "execution_count": 108,
   "id": "8078d303-32f9-45f1-ab3a-1810c235d10c",
   "metadata": {},
   "outputs": [],
   "source": [
    "# Neural Networks\n",
    "import tensorflow as tf\n",
    "from tensorflow import keras\n",
    "from tensorflow.keras import Sequential\n",
    "from tensorflow.keras.layers import Dense\n",
    "from keras.callbacks import EarlyStopping\n",
    "from tensorflow.keras.layers import Dense, Dropout, BatchNormalization, Activation\n",
    "from tensorflow.keras.optimizers import Adam"
   ]
  },
  {
   "cell_type": "code",
   "execution_count": 109,
   "id": "fc75c905-e8ca-4424-be10-139e990b7a26",
   "metadata": {},
   "outputs": [],
   "source": [
    "callback=EarlyStopping(monitor='val_auprc', min_delta=0.02, patience=5, verbose=1, \n",
    "                       mode='max', baseline=None, restore_best_weights=False )"
   ]
  },
  {
   "cell_type": "code",
   "execution_count": 110,
   "id": "4d80ef1f-bc1e-4522-b98b-cda624258f3b",
   "metadata": {},
   "outputs": [
    {
     "name": "stderr",
     "output_type": "stream",
     "text": [
      "C:\\Users\\dhruv\\AppData\\Roaming\\Python\\Python311\\site-packages\\keras\\src\\layers\\core\\dense.py:87: UserWarning: Do not pass an `input_shape`/`input_dim` argument to a layer. When using Sequential models, prefer using an `Input(shape)` object as the first layer in the model instead.\n",
      "  super().__init__(activity_regularizer=activity_regularizer, **kwargs)\n"
     ]
    }
   ],
   "source": [
    "model=Sequential()\n",
    "model.add(Dense(32, input_dim=X.shape[1], activation='relu'))\n",
    "model.add(BatchNormalization())\n",
    "model.add(Dense(16, activation='relu'))\n",
    "model.add(BatchNormalization())\n",
    "model.add(Dense(1, activation='sigmoid'))"
   ]
  },
  {
   "cell_type": "code",
   "execution_count": 113,
   "id": "246569e5-3279-48ef-a129-83a53d5a9d56",
   "metadata": {},
   "outputs": [],
   "source": [
    "model.compile(optimizer=Adam(learning_rate=0.03), loss=\"binary_crossentropy\", metrics=[ tf.keras.metrics.AUC(curve='PR', name='auprc')])"
   ]
  },
  {
   "cell_type": "code",
   "execution_count": 114,
   "id": "409bb285-d4a0-4f07-97c7-e78aed623578",
   "metadata": {},
   "outputs": [
    {
     "name": "stdout",
     "output_type": "stream",
     "text": [
      "Epoch 1/50\n",
      "\u001b[1m4550/4550\u001b[0m \u001b[32m━━━━━━━━━━━━━━━━━━━━\u001b[0m\u001b[37m\u001b[0m \u001b[1m18s\u001b[0m 3ms/step - auprc: 0.9339 - loss: 0.8999 - val_auprc: 1.0000 - val_loss: 0.1460\n",
      "Epoch 2/50\n",
      "\u001b[1m4550/4550\u001b[0m \u001b[32m━━━━━━━━━━━━━━━━━━━━\u001b[0m\u001b[37m\u001b[0m \u001b[1m15s\u001b[0m 3ms/step - auprc: 0.9363 - loss: 0.8674 - val_auprc: 1.0000 - val_loss: 0.0504\n",
      "Epoch 3/50\n",
      "\u001b[1m4550/4550\u001b[0m \u001b[32m━━━━━━━━━━━━━━━━━━━━\u001b[0m\u001b[37m\u001b[0m \u001b[1m15s\u001b[0m 3ms/step - auprc: 0.9372 - loss: 0.8607 - val_auprc: 1.0000 - val_loss: 0.1578\n",
      "Epoch 4/50\n",
      "\u001b[1m4550/4550\u001b[0m \u001b[32m━━━━━━━━━━━━━━━━━━━━\u001b[0m\u001b[37m\u001b[0m \u001b[1m14s\u001b[0m 3ms/step - auprc: 0.9396 - loss: 0.8488 - val_auprc: 1.0000 - val_loss: 0.9764\n",
      "Epoch 5/50\n",
      "\u001b[1m4550/4550\u001b[0m \u001b[32m━━━━━━━━━━━━━━━━━━━━\u001b[0m\u001b[37m\u001b[0m \u001b[1m14s\u001b[0m 3ms/step - auprc: 0.9365 - loss: 0.9510 - val_auprc: 1.0000 - val_loss: 0.1553\n",
      "Epoch 6/50\n",
      "\u001b[1m4550/4550\u001b[0m \u001b[32m━━━━━━━━━━━━━━━━━━━━\u001b[0m\u001b[37m\u001b[0m \u001b[1m14s\u001b[0m 3ms/step - auprc: 0.9332 - loss: 0.8857 - val_auprc: 1.0000 - val_loss: 0.1197\n",
      "Epoch 6: early stopping\n"
     ]
    }
   ],
   "source": [
    "history=model.fit(X_train,y_train, epochs=50, batch_size=64, validation_split=0.2, class_weight={0:1, 1:10},\n",
    "                  verbose=1, callbacks=callback)"
   ]
  },
  {
   "cell_type": "code",
   "execution_count": 116,
   "id": "361a8928-0d98-4607-b7e2-c5e0263406fa",
   "metadata": {},
   "outputs": [
    {
     "name": "stdout",
     "output_type": "stream",
     "text": [
      "\u001b[1m1425/1425\u001b[0m \u001b[32m━━━━━━━━━━━━━━━━━━━━\u001b[0m\u001b[37m\u001b[0m \u001b[1m2s\u001b[0m 1ms/step\n",
      "Classification Report:\n",
      "               precision    recall  f1-score   support\n",
      "\n",
      "           0       1.00      1.00      1.00     45490\n",
      "           1       0.54      0.85      0.66        79\n",
      "\n",
      "    accuracy                           1.00     45569\n",
      "   macro avg       0.77      0.92      0.83     45569\n",
      "weighted avg       1.00      1.00      1.00     45569\n",
      "\n",
      "Confusion Matrix:\n",
      " [[45434    56]\n",
      " [   12    67]]\n",
      "ROC-AUC Score:0.9727\n",
      "AUPRC Score: 0.8440\n"
     ]
    }
   ],
   "source": [
    "y_pred_prob_nn = model.predict(X_test).ravel()\n",
    "y_pred_nn = (y_pred_prob_nn > 0.5).astype(int)\n",
    "\n",
    "print(\"Classification Report:\\n\", classification_report(y_test, y_pred_nn))\n",
    "print(\"Confusion Matrix:\\n\", confusion_matrix(y_test, y_pred_nn))\n",
    "\n",
    "# ROC-AUC\n",
    "roc_auc_nn = roc_auc_score(y_test, y_pred_prob_nn)\n",
    "print(f\"ROC-AUC Score:{roc_auc_nn:.4f}\")\n",
    "\n",
    "# Precision-Recall AUC\n",
    "precision, recall, thresholds = precision_recall_curve(y_test, y_pred_prob_nn)\n",
    "auprc_nn= auc(recall, precision)\n",
    "print(f\"AUPRC Score: {auprc_nn:.4f}\")"
   ]
  },
  {
   "cell_type": "code",
   "execution_count": 56,
   "id": "f4dd11c7-c8d7-4035-88f4-af0bcf578ee7",
   "metadata": {},
   "outputs": [
    {
     "data": {
      "image/png": "[encoded data removed]",
      "text/plain": [
       "<Figure size 500x400 with 2 Axes>"
      ]
     },
     "metadata": {},
     "output_type": "display_data"
    }
   ],
   "source": [
    "cm = confusion_matrix(y_test, y_pred_nn)\n",
    "plt.figure(figsize=(5,4))\n",
    "sns.heatmap(cm, annot=True, fmt=\"d\", cmap=\"Blues\",\n",
    "            xticklabels=[\"Legit (0)\", \"Fraud (1)\"],\n",
    "            yticklabels=[\"Legit (0)\", \"Fraud (1)\"])\n",
    "plt.title(\"Neural Network - Confusion Matrix\")\n",
    "plt.ylabel(\"True Label\")\n",
    "plt.xlabel(\"Predicted Label\")\n",
    "plt.show()"
   ]
  },
  {
   "cell_type": "code",
   "execution_count": 117,
   "id": "b20292a1-d826-4374-8afe-05fe606d9bd8",
   "metadata": {},
   "outputs": [],
   "source": [
    "import keras_tuner as kt"
   ]
  },
  {
   "cell_type": "code",
   "execution_count": 134,
   "id": "2228ef88-006a-4f23-a8b7-060180d951d5",
   "metadata": {},
   "outputs": [],
   "source": [
    "#learning rate \n",
    "def build_model(hp):\n",
    "    model=Sequential()\n",
    "    units=hp.Int('units', min_value=8, max_value=128, step=8)\n",
    "    model.add(Dense(units=units, activation='relu', input_dim=2))\n",
    "    model.add(Dense(units=units, activation='relu'))\n",
    "    model.add(Dense(units=units, activation='relu'))\n",
    "    model.add(Dense(units=units, activation='relu'))\n",
    "    model.add(Dense(units=units, activation='relu'))\n",
    "    model.add(Dense(units=units, activation='relu'))\n",
    "    \n",
    "    model.add(Dense(1, activation='sigmoid'))\n",
    "\n",
    "\n",
    "    model.compile(optimizer=Adam(learning_rate=0.03),\n",
    "                  loss=\"binary_crossentropy\", metrics=[ tf.keras.metrics.AUC(curve='PR', name='auprc')])\n",
    "\n",
    "    return model"
   ]
  },
  {
   "cell_type": "code",
   "execution_count": 142,
   "id": "6ced0111-a674-4518-9f3d-39404df6ac6d",
   "metadata": {},
   "outputs": [],
   "source": [
    "tuner=kt.RandomSearch(build_model, objective=kt.Objective(\"val_auprc\", direction=\"max\")\n",
    "                  , max_trials=3, directory='mydir', project_name='neuuuurons',\n",
    "                  executions_per_trial=1, overwrite=True)\n"
   ]
  },
  {
   "cell_type": "code",
   "execution_count": 143,
   "id": "b87ee46b-731a-4eb6-853e-4d00c3dbb59d",
   "metadata": {},
   "outputs": [
    {
     "name": "stdout",
     "output_type": "stream",
     "text": [
      "Trial 3 Complete [00h 01m 34s]\n",
      "val_auprc: 0.0017336346209049225\n",
      "\n",
      "Best val_auprc So Far: 0.0017336346209049225\n",
      "Total elapsed time: 00h 04m 44s\n"
     ]
    }
   ],
   "source": [
    "tuner.search(X_train, y_train, epochs=5, validation_data=(X_test, y_test))"
   ]
  },
  {
   "cell_type": "code",
   "execution_count": 144,
   "id": "97b64858-8bda-44e5-87ba-0cbaf6b87482",
   "metadata": {},
   "outputs": [
    {
     "data": {
      "text/plain": [
       "{'units': 40}"
      ]
     },
     "execution_count": 144,
     "metadata": {},
     "output_type": "execute_result"
    }
   ],
   "source": [
    "tuner.get_best_hyperparameters()[0].values"
   ]
  },
  {
   "cell_type": "code",
   "execution_count": null,
   "id": "408e187a-716c-4c59-aa10-f0296a64fe12",
   "metadata": {},
   "outputs": [],
   "source": []
  }
 ],
 "metadata": {
  "kernelspec": {
   "display_name": "Python 3 (ipykernel)",
   "language": "python",
   "name": "python3"
  },
  "language_info": {
   "codemirror_mode": {
    "name": "ipython",
    "version": 3
   },
   "file_extension": ".py",
   "mimetype": "text/x-python",
   "name": "python",
   "nbconvert_exporter": "python",
   "pygments_lexer": "ipython3",
   "version": "3.11.4"
  }
 },
 "nbformat": 4,
 "nbformat_minor": 5
}
